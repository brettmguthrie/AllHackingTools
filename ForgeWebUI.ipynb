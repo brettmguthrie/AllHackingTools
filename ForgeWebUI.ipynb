{
  "nbformat": 4,
  "nbformat_minor": 0,
  "metadata": {
    "colab": {
      "provenance": [],
      "gpuType": "T4",
      "include_colab_link": true
    },
    "kernelspec": {
      "name": "python3",
      "display_name": "Python 3"
    },
    "language_info": {
      "name": "python"
    },
    "accelerator": "GPU"
  },
  "cells": [
    {
      "cell_type": "markdown",
      "metadata": {
        "id": "view-in-github",
        "colab_type": "text"
      },
      "source": [
        "<a href=\"https://colab.research.google.com/github/brettmguthrie/AllHackingTools/blob/main/ForgeWebUI.ipynb\" target=\"_parent\"><img src=\"https://colab.research.google.com/assets/colab-badge.svg\" alt=\"Open In Colab\"/></a>"
      ]
    },
    {
      "cell_type": "markdown",
      "source": [
        "# RedDelta's SD Forge Colab\n",
        "\n",
        "The notebook is intended to make it easy to use [Stable Diffusion WebUI Forge](https://github.com/lllyasviel/stable-diffusion-webui-forge) in Google Colab. If you run into any problems or have any suggestions, please create an Issue on Github.\n",
        "\n",
        "## Parameters\n",
        "\n",
        "\n",
        "*   **USE_GOOGLE_DRIVE** - Stores the Forge installation in your GDrive, this makes it easy to store your generated images, checkpoints, installed extensions etc between sessions\n",
        "*   **UPDATE_FORGE** - Update your Forge installation when you run this notebook\n",
        "*   **INSTALL_DEPS** - Installs optional dependencies such as `insightface`\n",
        "*   **ALLOW_EXTENSION_INSTALLATION** - Allow installing extensions through the UI **Warning**: It is recommended to have **USE_USERNAME_AND_PASSWORD** turned on if you're using this, otherwise anyone with your Gradio URL could install malicious extensions on your instance\n",
        "*   **USE_USERNAME_AND_PASSWORD** - Require inputting a username and password when accessing the Gradio URL\n",
        "*   **USERNAME** - Username to use when accessing the Gradio URL\n",
        "*   **PASSWORD** - Password to use when accessing the Gradio URL\n",
        "\n"
      ],
      "metadata": {
        "id": "G1THoku412to"
      }
    },
    {
      "cell_type": "code",
      "source": [
        "from google.colab import drive\n",
        "\n",
        "USE_GOOGLE_DRIVE = True  #@param {type:\"boolean\"}\n",
        "UPDATE_FORGE = True  #@param {type:\"boolean\"}\n",
        "INSTALL_DEPS = True #@param {type:\"boolean\"}\n",
        "ALLOW_EXTENSION_INSTALLATION = True #@param {type:\"boolean\"}\n",
        "USE_USERNAME_AND_PASSWORD = False #@param {type:\"boolean\"}\n",
        "USERNAME = \"brett\" # @param {type:\"string\"}\n",
        "PASSWORD = \"Gearhead$$11\" # @param {type:\"string\"}\n",
        "\n",
        "WORKSPACE = 'stable-diffusion-webui-forge'\n",
        "\n",
        "if USE_GOOGLE_DRIVE:\n",
        "  print(\"📂 Connecting to Google Drive...\")\n",
        "  drive.mount('/content/drive')\n",
        "\n",
        "  WORKSPACE = \"/content/drive/MyDrive/stable-diffusion-webui-forge\"\n",
        "  %cd /content/drive/MyDrive\n",
        "\n",
        "![ ! -d $WORKSPACE ] && echo -= Initial setup SDForge =- && git clone --config core.filemode=false https://github.com/lllyasviel/stable-diffusion-webui-forge.git\n",
        "%cd $WORKSPACE\n",
        "\n",
        "extra_args = []\n",
        "\n",
        "if UPDATE_FORGE:\n",
        "  !echo -= Updating SDForge =-\n",
        "  !git pull\n",
        "\n",
        "if INSTALL_DEPS:\n",
        "  !echo -= Install dependencies =-\n",
        "  !pip3 install insightface\n",
        "\n",
        "if ALLOW_EXTENSION_INSTALLATION:\n",
        "  extra_args.append(\"--enable-insecure-extension-access\")\n",
        "\n",
        "if USE_USERNAME_AND_PASSWORD:\n",
        "  extra_args.append(f\"--gradio-auth {USERNAME}:{PASSWORD}\")\n",
        "\n",
        "extra_args_concat = \" \".join(extra_args)\n",
        "\n",
        "!python launch.py --share {extra_args_concat}"
      ],
      "metadata": {
        "id": "rEeZ9in5tBhT",
        "outputId": "713d1cd8-0b24-4bf3-aa51-3718ce62973e",
        "colab": {
          "base_uri": "https://localhost:8080/"
        }
      },
      "execution_count": null,
      "outputs": [
        {
          "output_type": "stream",
          "name": "stdout",
          "text": [
            "📂 Connecting to Google Drive...\n",
            "Drive already mounted at /content/drive; to attempt to forcibly remount, call drive.mount(\"/content/drive\", force_remount=True).\n",
            "/content/drive/MyDrive\n",
            "/content/drive/MyDrive/stable-diffusion-webui-forge\n",
            "-= Updating SDForge =-\n",
            "remote: Enumerating objects: 7, done.\u001b[K\n",
            "remote: Counting objects: 100% (7/7), done.\u001b[K\n",
            "remote: Compressing objects: 100% (5/5), done.\u001b[K\n",
            "remote: Total 7 (delta 2), reused 2 (delta 2), pack-reused 0 (from 0)\u001b[K\n",
            "Unpacking objects: 100% (7/7), 11.75 KiB | 58.00 KiB/s, done.\n",
            "From https://github.com/lllyasviel/stable-diffusion-webui-forge\n",
            "   d4d8ad40..145a4690  main       -> origin/main\n",
            "Updating d4d8ad40..145a4690\n",
            "Fast-forward\n",
            " modules/processing.py       | 14 \u001b[32m+++++++\u001b[m\u001b[31m-------\u001b[m\n",
            " modules/sysinfo.py          |  5 \u001b[32m+++\u001b[m\u001b[31m--\u001b[m\n",
            " modules_forge/main_entry.py | 10 \u001b[32m++++++++\u001b[m\u001b[31m--\u001b[m\n",
            " 3 files changed, 18 insertions(+), 11 deletions(-)\n",
            "-= Install dependencies =-\n",
            "Requirement already satisfied: insightface in /usr/local/lib/python3.10/dist-packages (0.7.3)\n",
            "Requirement already satisfied: numpy in /usr/local/lib/python3.10/dist-packages (from insightface) (1.26.2)\n",
            "Requirement already satisfied: onnx in /usr/local/lib/python3.10/dist-packages (from insightface) (1.17.0)\n",
            "Requirement already satisfied: tqdm in /usr/local/lib/python3.10/dist-packages (from insightface) (4.66.1)\n",
            "Requirement already satisfied: requests in /usr/local/lib/python3.10/dist-packages (from insightface) (2.32.3)\n",
            "Requirement already satisfied: matplotlib in /usr/local/lib/python3.10/dist-packages (from insightface) (3.7.1)\n",
            "Requirement already satisfied: Pillow in /usr/local/lib/python3.10/dist-packages (from insightface) (9.5.0)\n",
            "Requirement already satisfied: scipy in /usr/local/lib/python3.10/dist-packages (from insightface) (1.13.1)\n",
            "Requirement already satisfied: scikit-learn in /usr/local/lib/python3.10/dist-packages (from insightface) (1.5.2)\n",
            "Requirement already satisfied: scikit-image in /usr/local/lib/python3.10/dist-packages (from insightface) (0.21.0)\n",
            "Requirement already satisfied: easydict in /usr/local/lib/python3.10/dist-packages (from insightface) (1.13)\n",
            "Requirement already satisfied: cython in /usr/local/lib/python3.10/dist-packages (from insightface) (3.0.11)\n",
            "Requirement already satisfied: albumentations in /usr/local/lib/python3.10/dist-packages (from insightface) (1.4.15)\n",
            "Requirement already satisfied: prettytable in /usr/local/lib/python3.10/dist-packages (from insightface) (3.11.0)\n",
            "Requirement already satisfied: PyYAML in /usr/local/lib/python3.10/dist-packages (from albumentations->insightface) (6.0.2)\n",
            "Requirement already satisfied: pydantic>=2.7.0 in /usr/local/lib/python3.10/dist-packages (from albumentations->insightface) (2.8.2)\n",
            "Requirement already satisfied: albucore>=0.0.15 in /usr/local/lib/python3.10/dist-packages (from albumentations->insightface) (0.0.16)\n",
            "Requirement already satisfied: eval-type-backport in /usr/local/lib/python3.10/dist-packages (from albumentations->insightface) (0.2.0)\n",
            "Requirement already satisfied: opencv-python-headless>=4.9.0.80 in /usr/local/lib/python3.10/dist-packages (from albumentations->insightface) (4.10.0.84)\n",
            "Requirement already satisfied: networkx>=2.8 in /usr/local/lib/python3.10/dist-packages (from scikit-image->insightface) (3.4.2)\n",
            "Requirement already satisfied: imageio>=2.27 in /usr/local/lib/python3.10/dist-packages (from scikit-image->insightface) (2.35.1)\n",
            "Requirement already satisfied: tifffile>=2022.8.12 in /usr/local/lib/python3.10/dist-packages (from scikit-image->insightface) (2024.9.20)\n",
            "Requirement already satisfied: PyWavelets>=1.1.1 in /usr/local/lib/python3.10/dist-packages (from scikit-image->insightface) (1.7.0)\n",
            "Requirement already satisfied: packaging>=21 in /usr/local/lib/python3.10/dist-packages (from scikit-image->insightface) (24.1)\n",
            "Requirement already satisfied: lazy_loader>=0.2 in /usr/local/lib/python3.10/dist-packages (from scikit-image->insightface) (0.4)\n",
            "Requirement already satisfied: contourpy>=1.0.1 in /usr/local/lib/python3.10/dist-packages (from matplotlib->insightface) (1.3.0)\n",
            "Requirement already satisfied: cycler>=0.10 in /usr/local/lib/python3.10/dist-packages (from matplotlib->insightface) (0.12.1)\n",
            "Requirement already satisfied: fonttools>=4.22.0 in /usr/local/lib/python3.10/dist-packages (from matplotlib->insightface) (4.54.1)\n",
            "Requirement already satisfied: kiwisolver>=1.0.1 in /usr/local/lib/python3.10/dist-packages (from matplotlib->insightface) (1.4.7)\n",
            "Requirement already satisfied: pyparsing>=2.3.1 in /usr/local/lib/python3.10/dist-packages (from matplotlib->insightface) (3.2.0)\n",
            "Requirement already satisfied: python-dateutil>=2.7 in /usr/local/lib/python3.10/dist-packages (from matplotlib->insightface) (2.8.2)\n",
            "Requirement already satisfied: protobuf>=3.20.2 in /usr/local/lib/python3.10/dist-packages (from onnx->insightface) (4.25.5)\n",
            "Requirement already satisfied: wcwidth in /usr/local/lib/python3.10/dist-packages (from prettytable->insightface) (0.2.13)\n",
            "Requirement already satisfied: charset-normalizer<4,>=2 in /usr/local/lib/python3.10/dist-packages (from requests->insightface) (3.4.0)\n",
            "Requirement already satisfied: idna<4,>=2.5 in /usr/local/lib/python3.10/dist-packages (from requests->insightface) (3.10)\n",
            "Requirement already satisfied: urllib3<3,>=1.21.1 in /usr/local/lib/python3.10/dist-packages (from requests->insightface) (2.2.3)\n",
            "Requirement already satisfied: certifi>=2017.4.17 in /usr/local/lib/python3.10/dist-packages (from requests->insightface) (2024.8.30)\n",
            "Requirement already satisfied: joblib>=1.2.0 in /usr/local/lib/python3.10/dist-packages (from scikit-learn->insightface) (1.4.2)\n",
            "Requirement already satisfied: threadpoolctl>=3.1.0 in /usr/local/lib/python3.10/dist-packages (from scikit-learn->insightface) (3.5.0)\n",
            "Requirement already satisfied: annotated-types>=0.4.0 in /usr/local/lib/python3.10/dist-packages (from pydantic>=2.7.0->albumentations->insightface) (0.7.0)\n",
            "Requirement already satisfied: pydantic-core==2.20.1 in /usr/local/lib/python3.10/dist-packages (from pydantic>=2.7.0->albumentations->insightface) (2.20.1)\n",
            "Requirement already satisfied: typing-extensions>=4.6.1 in /usr/local/lib/python3.10/dist-packages (from pydantic>=2.7.0->albumentations->insightface) (4.12.2)\n",
            "Requirement already satisfied: six>=1.5 in /usr/local/lib/python3.10/dist-packages (from python-dateutil>=2.7->matplotlib->insightface) (1.16.0)\n",
            "Python 3.10.12 (main, Sep 11 2024, 15:47:36) [GCC 11.4.0]\n",
            "Version: f2.0.1v1.10.1-previous-587-g145a4690\n",
            "Commit hash: 145a46907e9208183d9f3d892e32fbf9c25f3a2a\n",
            "Installing requirements\n",
            "Launching Web UI with arguments: --share --enable-insecure-extension-access\n",
            "Total VRAM 15102 MB, total RAM 12979 MB\n",
            "pytorch version: 2.5.0+cu121\n",
            "Set vram state to: NORMAL_VRAM\n",
            "Device: cuda:0 Tesla T4 : native\n",
            "VAE dtype preferences: [torch.float32] -> torch.float32\n",
            "CUDA Using Stream: False\n",
            "2024-10-26 20:13:14.933725: E external/local_xla/xla/stream_executor/cuda/cuda_fft.cc:485] Unable to register cuFFT factory: Attempting to register factory for plugin cuFFT when one has already been registered\n",
            "2024-10-26 20:13:14.953479: E external/local_xla/xla/stream_executor/cuda/cuda_dnn.cc:8454] Unable to register cuDNN factory: Attempting to register factory for plugin cuDNN when one has already been registered\n",
            "2024-10-26 20:13:14.960248: E external/local_xla/xla/stream_executor/cuda/cuda_blas.cc:1452] Unable to register cuBLAS factory: Attempting to register factory for plugin cuBLAS when one has already been registered\n",
            "2024-10-26 20:13:14.974664: I tensorflow/core/platform/cpu_feature_guard.cc:210] This TensorFlow binary is optimized to use available CPU instructions in performance-critical operations.\n",
            "To enable the following instructions: AVX2 AVX512F FMA, in other operations, rebuild TensorFlow with the appropriate compiler flags.\n",
            "2024-10-26 20:13:15.972157: W tensorflow/compiler/tf2tensorrt/utils/py_utils.cc:38] TF-TRT Warning: Could not find TensorRT\n",
            "Using pytorch cross attention\n",
            "Using pytorch attention for VAE\n"
          ]
        }
      ]
    },
    {
      "cell_type": "code",
      "source": [],
      "metadata": {
        "id": "k_fsFs4jdrhj"
      },
      "execution_count": null,
      "outputs": []
    }
  ]
}